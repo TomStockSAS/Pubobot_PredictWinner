{
 "cells": [
  {
   "cell_type": "code",
   "execution_count": 1,
   "metadata": {},
   "outputs": [
    {
     "name": "stdout",
     "output_type": "stream",
     "text": [
      "ready\n"
     ]
    }
   ],
   "source": [
    "import sqlite3\n",
    "import pandas as pd\n",
    "import warnings  \n",
    "with warnings.catch_warnings():  \n",
    "    warnings.filterwarnings(\"ignore\",category=FutureWarning)\n",
    "    import tensorflow as tf\n",
    "    from tensorflow import keras\n",
    "    from tensorflow.keras.preprocessing.text import Tokenizer\n",
    "\n",
    "print('ready')  "
   ]
  },
  {
   "cell_type": "code",
   "execution_count": 2,
   "metadata": {},
   "outputs": [],
   "source": [
    "conn = sqlite3.connect('C:\\Python_Packages\\ModelDev\\database.sqlite3')"
   ]
  },
  {
   "cell_type": "markdown",
   "metadata": {},
   "source": [
    "players are using different names, we need to have all those names associated with their ID\n",
    "we have to remove brackets from names, because the matching does not work with them, python constraint\n",
    "we sort them by lengt to match the longest names first, because if the shorter name is matched first, some part of names remain unmatched (\"eric vs eric corona\" become \"123 vs 123 corona\" instead of \"123 vs 123\") "
   ]
  },
  {
   "cell_type": "code",
   "execution_count": 3,
   "metadata": {},
   "outputs": [],
   "source": [
    "df_users = pd.read_sql_query(\"SELECT user_id, user_name FROM player_pickups WHERE pickup_name='6v6'\", conn)\n",
    "df_users = df_users.drop_duplicates(ignore_index=True)\n",
    "df_users[\"user_id\"] = df_users[\"user_id\"].apply(str)\n",
    "table = str.maketrans(dict.fromkeys(\"()\"))\n",
    "df_users[\"user_name\"] = df_users[\"user_name\"].str.translate(table)\n",
    "df_users[\"length\"] = df_users['user_name'].str.len()\n",
    "df_users = df_users.sort_values(by=['length'], ascending=False, ignore_index=True)\n",
    "pd.set_option('display.max_rows', None)"
   ]
  },
  {
   "cell_type": "code",
   "execution_count": 4,
   "metadata": {},
   "outputs": [],
   "source": [
    "ids = dict(zip(df_users['user_name'],df_users['user_id']))"
   ]
  },
  {
   "cell_type": "code",
   "execution_count": 5,
   "metadata": {},
   "outputs": [],
   "source": [
    "df = pd.read_sql_query(\"SELECT pickup_id, alpha_players, beta_players, winner_team FROM pickups WHERE pickup_name='6v6'\", conn)"
   ]
  },
  {
   "cell_type": "code",
   "execution_count": 6,
   "metadata": {},
   "outputs": [],
   "source": [
    "df_base = pd.read_sql_query(\"SELECT alpha_players FROM pickups WHERE pickup_name='6v6'and winner_team='alpha'\", conn)\n",
    "df_base['label'] = 'winner'"
   ]
  },
  {
   "cell_type": "code",
   "execution_count": 7,
   "metadata": {},
   "outputs": [],
   "source": [
    "df_winner_beta = pd.read_sql_query(\"SELECT beta_players FROM pickups WHERE pickup_name='6v6'and winner_team='beta'\", conn)\n",
    "df_winner_beta['label'] = 'winner'"
   ]
  },
  {
   "cell_type": "code",
   "execution_count": 8,
   "metadata": {},
   "outputs": [],
   "source": [
    "df_looser_alpha = pd.read_sql_query(\"SELECT alpha_players FROM pickups WHERE pickup_name='6v6'and winner_team='beta'\", conn)\n",
    "df_looser_alpha['label'] = 'looser'"
   ]
  },
  {
   "cell_type": "code",
   "execution_count": 9,
   "metadata": {},
   "outputs": [],
   "source": [
    "df_looser_beta = pd.read_sql_query(\"SELECT beta_players FROM pickups WHERE pickup_name='6v6'and winner_team='alpha'\", conn)\n",
    "df_looser_beta['label'] = 'looser'"
   ]
  },
  {
   "cell_type": "code",
   "execution_count": 10,
   "metadata": {},
   "outputs": [],
   "source": [
    "df_base.rename(columns={\"alpha_players\": \"players\"}, inplace = True)\n",
    "df_winner_beta.rename(columns={\"beta_players\": \"players\"}, inplace = True)\n",
    "df_looser_alpha.rename(columns={\"alpha_players\": \"players\"}, inplace = True)\n",
    "df_looser_beta.rename(columns={\"beta_players\": \"players\"}, inplace = True)"
   ]
  },
  {
   "cell_type": "code",
   "execution_count": 11,
   "metadata": {},
   "outputs": [],
   "source": [
    "df_abt = df_base.append([df_winner_beta, df_looser_alpha, df_looser_beta], ignore_index=True)\n",
    "df_abt[\"players\"] = df_abt[\"players\"].str.translate(table)"
   ]
  },
  {
   "cell_type": "code",
   "execution_count": 12,
   "metadata": {},
   "outputs": [],
   "source": [
    "df_abt['count'] = df_abt['players'].str.split().apply(len)           "
   ]
  },
  {
   "cell_type": "code",
   "execution_count": 13,
   "metadata": {},
   "outputs": [],
   "source": [
    "df_abt['players_calc'] = df_abt['players'].replace(to_replace=ids, regex=True)\n",
    "df_abt['count1'] = df_abt['players_calc'].str.split().apply(len)   \n",
    "### df_abt.sort_values(by=['count1'])"
   ]
  },
  {
   "cell_type": "code",
   "execution_count": 14,
   "metadata": {},
   "outputs": [
    {
     "name": "stdout",
     "output_type": "stream",
     "text": [
      "\n",
      "Number of Words: 158\n"
     ]
    }
   ],
   "source": [
    "tokenizer = Tokenizer()\n",
    "tokenizer.fit_on_texts(df_abt['players_calc'])\n",
    "\n",
    "word_idx = tokenizer.word_index\n",
    "num_words = len(word_idx) + 1\n",
    "word_counts = tokenizer.word_counts\n",
    "sequences = tokenizer.texts_to_sequences(df_abt['players_calc'])\n",
    "s = tokenizer.texts_to_sequences(df_abt['players_calc'])[0]\n",
    "' '.join(tokenizer.index_word[i] for i in s)\n",
    "\n",
    "print('\\nNumber of Words: {}'.format(num_words))"
   ]
  },
  {
   "cell_type": "code",
   "execution_count": 15,
   "metadata": {},
   "outputs": [
    {
     "name": "stderr",
     "output_type": "stream",
     "text": [
      "Using TensorFlow backend.\n"
     ]
    },
    {
     "data": {
      "text/plain": [
       "(1380, 6)"
      ]
     },
     "execution_count": 15,
     "metadata": {},
     "output_type": "execute_result"
    }
   ],
   "source": [
    "from keras.preprocessing.sequence import pad_sequences\n",
    "data = pad_sequences(sequences, maxlen=6)\n",
    "data.shape"
   ]
  },
  {
   "cell_type": "code",
   "execution_count": 16,
   "metadata": {},
   "outputs": [
    {
     "name": "stdout",
     "output_type": "stream",
     "text": [
      "\n",
      "Word Index : {'winner': 1, 'looser': 2}\n"
     ]
    }
   ],
   "source": [
    "tokenizer_label = Tokenizer(filters='\"#$%&*+/:;<=>?@[\\\\]^_`{}~\\t\\n')\n",
    "tokenizer_label.fit_on_texts(df_abt['label'])\n",
    "\n",
    "word_idx_lbl = tokenizer_label.word_index\n",
    "num_words_lbl = len(word_idx_lbl) + 1\n",
    "word_counts_lbl = tokenizer_label.word_counts\n",
    "sequences_lbl = tokenizer_label.texts_to_sequences(df_abt['label']) \n",
    "s = tokenizer_label.texts_to_sequences(df_abt['label'])[0]\n",
    "' '.join(tokenizer_label.index_word[i] for i in s)\n",
    "\n",
    "print('\\nWord Index : {}'.format(word_idx_lbl))\n",
    "labels = pad_sequences(sequences_lbl, maxlen=1)\n",
    "labels = labels-1"
   ]
  },
  {
   "cell_type": "code",
   "execution_count": 17,
   "metadata": {},
   "outputs": [],
   "source": [
    "import numpy as np\n",
    "labels = np.array(labels)\n",
    "indices = np.arange(data.shape[0])\n",
    "np.random.shuffle(indices)\n",
    "data = data[indices]\n",
    "labels = labels[indices]"
   ]
  },
  {
   "cell_type": "code",
   "execution_count": 18,
   "metadata": {},
   "outputs": [
    {
     "data": {
      "text/plain": [
       "276"
      ]
     },
     "execution_count": 18,
     "metadata": {},
     "output_type": "execute_result"
    }
   ],
   "source": [
    "num_validation_samples = int(0.2 * data.shape[0])\n",
    "num_validation_samples"
   ]
  },
  {
   "cell_type": "code",
   "execution_count": 19,
   "metadata": {},
   "outputs": [],
   "source": [
    "x_train = data[:-num_validation_samples]\n",
    "y_train = labels[:-num_validation_samples]\n",
    "x_val = data[-num_validation_samples:]\n",
    "y_val = labels[-num_validation_samples:]"
   ]
  },
  {
   "cell_type": "code",
   "execution_count": 20,
   "metadata": {},
   "outputs": [],
   "source": [
    "from keras.models import Sequential, load_model\n",
    "from keras.layers import LSTM, Dense, Dropout, Embedding, Masking, Bidirectional, Activation\n",
    "from keras.optimizers import Adam\n",
    "from keras.utils import plot_model"
   ]
  },
  {
   "cell_type": "code",
   "execution_count": 26,
   "metadata": {
    "scrolled": true
   },
   "outputs": [
    {
     "name": "stdout",
     "output_type": "stream",
     "text": [
      "Building model...\n",
      "Model: \"sequential_3\"\n",
      "_________________________________________________________________\n",
      "Layer (type)                 Output Shape              Param #   \n",
      "=================================================================\n",
      "embedding_3 (Embedding)      (None, 6, 6)              948       \n",
      "_________________________________________________________________\n",
      "lstm_3 (LSTM)                (None, 24)                2976      \n",
      "_________________________________________________________________\n",
      "dense_5 (Dense)              (None, 12)                300       \n",
      "_________________________________________________________________\n",
      "dense_6 (Dense)              (None, 1)                 13        \n",
      "=================================================================\n",
      "Total params: 4,237\n",
      "Trainable params: 4,237\n",
      "Non-trainable params: 0\n",
      "_________________________________________________________________\n"
     ]
    }
   ],
   "source": [
    "print('Building model...')\n",
    "model1 = Sequential()\n",
    "model1.add(Embedding(input_dim=num_words, output_dim=6, input_length=6))\n",
    "model1.add(LSTM(24, dropout=0.3, recurrent_dropout=0.3))\n",
    "model1.add(Dense(12, activation='relu'))\n",
    "model1.add(Dense(1, activation='sigmoid'))\n",
    "\n",
    "model1.compile(loss='binary_crossentropy',\n",
    "              optimizer='adam',\n",
    "              metrics=['binary_accuracy'])\n",
    "\n",
    "model1.summary()"
   ]
  },
  {
   "cell_type": "code",
   "execution_count": 27,
   "metadata": {},
   "outputs": [
    {
     "name": "stdout",
     "output_type": "stream",
     "text": [
      "Train on 1104 samples, validate on 276 samples\n",
      "Epoch 1/100\n",
      "1104/1104 [==============================] - 1s 1ms/step - loss: 0.6932 - binary_accuracy: 0.5000 - val_loss: 0.6926 - val_binary_accuracy: 0.5471\n",
      "Epoch 2/100\n",
      "1104/1104 [==============================] - 1s 488us/step - loss: 0.6908 - binary_accuracy: 0.5679 - val_loss: 0.6888 - val_binary_accuracy: 0.5435\n",
      "Epoch 3/100\n",
      "1104/1104 [==============================] - 1s 487us/step - loss: 0.6704 - binary_accuracy: 0.6087 - val_loss: 0.6738 - val_binary_accuracy: 0.5616\n",
      "Epoch 4/100\n",
      "1104/1104 [==============================] - 1s 475us/step - loss: 0.6440 - binary_accuracy: 0.6368 - val_loss: 0.6780 - val_binary_accuracy: 0.5616\n",
      "Epoch 5/100\n",
      "1104/1104 [==============================] - 1s 530us/step - loss: 0.6354 - binary_accuracy: 0.6594 - val_loss: 0.6941 - val_binary_accuracy: 0.5616\n",
      "Epoch 6/100\n",
      "1104/1104 [==============================] - 1s 514us/step - loss: 0.6251 - binary_accuracy: 0.6803 - val_loss: 0.7023 - val_binary_accuracy: 0.5580\n",
      "Epoch 7/100\n",
      "1104/1104 [==============================] - 1s 503us/step - loss: 0.6252 - binary_accuracy: 0.6730 - val_loss: 0.6974 - val_binary_accuracy: 0.5471\n",
      "Epoch 8/100\n",
      "1104/1104 [==============================] - 1s 478us/step - loss: 0.6153 - binary_accuracy: 0.6730 - val_loss: 0.7022 - val_binary_accuracy: 0.5543\n",
      "Epoch 9/100\n",
      "1104/1104 [==============================] - 1s 475us/step - loss: 0.6179 - binary_accuracy: 0.6748 - val_loss: 0.7069 - val_binary_accuracy: 0.5399\n",
      "Epoch 10/100\n",
      "1104/1104 [==============================] - 1s 460us/step - loss: 0.6124 - binary_accuracy: 0.6929 - val_loss: 0.7138 - val_binary_accuracy: 0.5290\n",
      "Epoch 11/100\n",
      "1104/1104 [==============================] - 1s 478us/step - loss: 0.6100 - binary_accuracy: 0.6784 - val_loss: 0.7232 - val_binary_accuracy: 0.5326\n",
      "Epoch 12/100\n",
      "1104/1104 [==============================] - 1s 492us/step - loss: 0.6035 - binary_accuracy: 0.6857 - val_loss: 0.7275 - val_binary_accuracy: 0.5362\n",
      "Epoch 13/100\n",
      "1104/1104 [==============================] - 1s 473us/step - loss: 0.6035 - binary_accuracy: 0.6875 - val_loss: 0.7319 - val_binary_accuracy: 0.5254\n",
      "Epoch 14/100\n",
      "1104/1104 [==============================] - 1s 477us/step - loss: 0.5953 - binary_accuracy: 0.7029 - val_loss: 0.7364 - val_binary_accuracy: 0.5399\n",
      "Epoch 15/100\n",
      "1104/1104 [==============================] - 1s 504us/step - loss: 0.5966 - binary_accuracy: 0.6957 - val_loss: 0.7397 - val_binary_accuracy: 0.5290\n",
      "Epoch 16/100\n",
      "1104/1104 [==============================] - 1s 488us/step - loss: 0.5978 - binary_accuracy: 0.6993 - val_loss: 0.7245 - val_binary_accuracy: 0.5362\n",
      "Epoch 17/100\n",
      "1104/1104 [==============================] - 1s 533us/step - loss: 0.5908 - binary_accuracy: 0.7002 - val_loss: 0.7366 - val_binary_accuracy: 0.5254\n",
      "Epoch 18/100\n",
      "1104/1104 [==============================] - 1s 524us/step - loss: 0.5901 - binary_accuracy: 0.7074 - val_loss: 0.7352 - val_binary_accuracy: 0.5254\n",
      "Epoch 19/100\n",
      "1104/1104 [==============================] - 1s 486us/step - loss: 0.5898 - binary_accuracy: 0.7029 - val_loss: 0.7500 - val_binary_accuracy: 0.5362\n",
      "Epoch 20/100\n",
      "1104/1104 [==============================] - 1s 482us/step - loss: 0.5850 - binary_accuracy: 0.7111 - val_loss: 0.7634 - val_binary_accuracy: 0.5290\n",
      "Epoch 21/100\n",
      "1104/1104 [==============================] - 1s 464us/step - loss: 0.5810 - binary_accuracy: 0.7092 - val_loss: 0.7360 - val_binary_accuracy: 0.5254\n",
      "Epoch 22/100\n",
      "1104/1104 [==============================] - 1s 467us/step - loss: 0.5730 - binary_accuracy: 0.7120 - val_loss: 0.7712 - val_binary_accuracy: 0.5435\n",
      "Epoch 23/100\n",
      "1104/1104 [==============================] - 1s 517us/step - loss: 0.5894 - binary_accuracy: 0.7011 - val_loss: 0.7424 - val_binary_accuracy: 0.5435\n",
      "Epoch 24/100\n",
      "1104/1104 [==============================] - 1s 503us/step - loss: 0.5759 - binary_accuracy: 0.7056 - val_loss: 0.7606 - val_binary_accuracy: 0.5543\n",
      "Epoch 25/100\n",
      "1104/1104 [==============================] - 1s 483us/step - loss: 0.5733 - binary_accuracy: 0.7038 - val_loss: 0.7445 - val_binary_accuracy: 0.5435\n",
      "Epoch 26/100\n",
      "1104/1104 [==============================] - 1s 486us/step - loss: 0.5708 - binary_accuracy: 0.7074 - val_loss: 0.7472 - val_binary_accuracy: 0.5471\n",
      "Epoch 27/100\n",
      "1104/1104 [==============================] - 1s 485us/step - loss: 0.5556 - binary_accuracy: 0.7138 - val_loss: 0.7586 - val_binary_accuracy: 0.5435\n",
      "Epoch 28/100\n",
      "1104/1104 [==============================] - 1s 512us/step - loss: 0.5628 - binary_accuracy: 0.7111 - val_loss: 0.7905 - val_binary_accuracy: 0.5290\n",
      "Epoch 29/100\n",
      "1104/1104 [==============================] - 1s 541us/step - loss: 0.5488 - binary_accuracy: 0.7120 - val_loss: 0.7721 - val_binary_accuracy: 0.5399\n",
      "Epoch 30/100\n",
      "1104/1104 [==============================] - 1s 552us/step - loss: 0.5433 - binary_accuracy: 0.7283 - val_loss: 0.8019 - val_binary_accuracy: 0.5362\n",
      "Epoch 31/100\n",
      "1104/1104 [==============================] - 1s 503us/step - loss: 0.5511 - binary_accuracy: 0.7147 - val_loss: 0.8097 - val_binary_accuracy: 0.5362\n",
      "Epoch 32/100\n",
      "1104/1104 [==============================] - 1s 470us/step - loss: 0.5616 - binary_accuracy: 0.7237 - val_loss: 0.7906 - val_binary_accuracy: 0.4964\n",
      "Epoch 33/100\n",
      "1104/1104 [==============================] - 1s 496us/step - loss: 0.5406 - binary_accuracy: 0.7274 - val_loss: 0.7917 - val_binary_accuracy: 0.5471\n",
      "Epoch 34/100\n",
      "1104/1104 [==============================] - 1s 501us/step - loss: 0.5517 - binary_accuracy: 0.7283 - val_loss: 0.7985 - val_binary_accuracy: 0.4891\n",
      "Epoch 35/100\n",
      "1104/1104 [==============================] - 1s 507us/step - loss: 0.5424 - binary_accuracy: 0.7382 - val_loss: 0.7982 - val_binary_accuracy: 0.5036\n",
      "Epoch 36/100\n",
      "1104/1104 [==============================] - 1s 489us/step - loss: 0.5446 - binary_accuracy: 0.7138 - val_loss: 0.8025 - val_binary_accuracy: 0.4964\n",
      "Epoch 37/100\n",
      "1104/1104 [==============================] - 1s 529us/step - loss: 0.5379 - binary_accuracy: 0.7328 - val_loss: 0.7886 - val_binary_accuracy: 0.5072\n",
      "Epoch 38/100\n",
      "1104/1104 [==============================] - 1s 463us/step - loss: 0.5439 - binary_accuracy: 0.7301 - val_loss: 0.8308 - val_binary_accuracy: 0.5145\n",
      "Epoch 39/100\n",
      "1104/1104 [==============================] - 1s 484us/step - loss: 0.5391 - binary_accuracy: 0.7283 - val_loss: 0.8075 - val_binary_accuracy: 0.5109\n",
      "Epoch 40/100\n",
      "1104/1104 [==============================] - 1s 528us/step - loss: 0.5549 - binary_accuracy: 0.7129 - val_loss: 0.7927 - val_binary_accuracy: 0.5217\n",
      "Epoch 41/100\n",
      "1104/1104 [==============================] - 1s 497us/step - loss: 0.5273 - binary_accuracy: 0.7319 - val_loss: 0.8067 - val_binary_accuracy: 0.5000\n",
      "Epoch 42/100\n",
      "1104/1104 [==============================] - 1s 473us/step - loss: 0.5355 - binary_accuracy: 0.7283 - val_loss: 0.8059 - val_binary_accuracy: 0.5326\n",
      "Epoch 43/100\n",
      "1104/1104 [==============================] - 1s 463us/step - loss: 0.5337 - binary_accuracy: 0.7328 - val_loss: 0.8214 - val_binary_accuracy: 0.5181\n",
      "Epoch 44/100\n",
      "1104/1104 [==============================] - 1s 460us/step - loss: 0.5392 - binary_accuracy: 0.7183 - val_loss: 0.7964 - val_binary_accuracy: 0.5036\n",
      "Epoch 45/100\n",
      "1104/1104 [==============================] - 1s 463us/step - loss: 0.5199 - binary_accuracy: 0.7536 - val_loss: 0.8353 - val_binary_accuracy: 0.5254\n",
      "Epoch 46/100\n",
      "1104/1104 [==============================] - 1s 470us/step - loss: 0.5296 - binary_accuracy: 0.7446 - val_loss: 0.8338 - val_binary_accuracy: 0.5217\n",
      "Epoch 47/100\n",
      "1104/1104 [==============================] - 1s 481us/step - loss: 0.5234 - binary_accuracy: 0.7464 - val_loss: 0.8127 - val_binary_accuracy: 0.5254\n",
      "Epoch 48/100\n",
      "1104/1104 [==============================] - 1s 493us/step - loss: 0.5189 - binary_accuracy: 0.7391 - val_loss: 0.8541 - val_binary_accuracy: 0.5217\n",
      "Epoch 49/100\n",
      "1104/1104 [==============================] - 1s 459us/step - loss: 0.5250 - binary_accuracy: 0.7373 - val_loss: 0.8268 - val_binary_accuracy: 0.5362\n",
      "Epoch 50/100\n",
      "1104/1104 [==============================] - 1s 468us/step - loss: 0.5166 - binary_accuracy: 0.7437 - val_loss: 0.8790 - val_binary_accuracy: 0.5181\n",
      "Epoch 51/100\n"
     ]
    },
    {
     "name": "stdout",
     "output_type": "stream",
     "text": [
      "1104/1104 [==============================] - 1s 511us/step - loss: 0.5178 - binary_accuracy: 0.7337 - val_loss: 0.8532 - val_binary_accuracy: 0.5254\n",
      "Epoch 52/100\n",
      "1104/1104 [==============================] - 1s 506us/step - loss: 0.5239 - binary_accuracy: 0.7328 - val_loss: 0.8835 - val_binary_accuracy: 0.5254\n",
      "Epoch 53/100\n",
      "1104/1104 [==============================] - 1s 504us/step - loss: 0.5109 - binary_accuracy: 0.7437 - val_loss: 0.8361 - val_binary_accuracy: 0.5109\n",
      "Epoch 54/100\n",
      "1104/1104 [==============================] - 1s 456us/step - loss: 0.5210 - binary_accuracy: 0.7409 - val_loss: 0.8736 - val_binary_accuracy: 0.5145\n",
      "Epoch 55/100\n",
      "1104/1104 [==============================] - 0s 453us/step - loss: 0.5151 - binary_accuracy: 0.7373 - val_loss: 0.8952 - val_binary_accuracy: 0.5181\n",
      "Epoch 56/100\n",
      "1104/1104 [==============================] - 1s 457us/step - loss: 0.5145 - binary_accuracy: 0.7319 - val_loss: 0.8638 - val_binary_accuracy: 0.5072\n",
      "Epoch 57/100\n",
      "1104/1104 [==============================] - 0s 452us/step - loss: 0.5149 - binary_accuracy: 0.7536 - val_loss: 0.8861 - val_binary_accuracy: 0.5072\n",
      "Epoch 58/100\n",
      "1104/1104 [==============================] - 1s 456us/step - loss: 0.5251 - binary_accuracy: 0.7337 - val_loss: 0.8738 - val_binary_accuracy: 0.5217\n",
      "Epoch 59/100\n",
      "1104/1104 [==============================] - 1s 471us/step - loss: 0.5070 - binary_accuracy: 0.7437 - val_loss: 0.8195 - val_binary_accuracy: 0.5036\n",
      "Epoch 60/100\n",
      "1104/1104 [==============================] - 1s 459us/step - loss: 0.5173 - binary_accuracy: 0.7400 - val_loss: 0.8904 - val_binary_accuracy: 0.5145\n",
      "Epoch 61/100\n",
      "1104/1104 [==============================] - 1s 476us/step - loss: 0.5094 - binary_accuracy: 0.7509 - val_loss: 0.8828 - val_binary_accuracy: 0.5145\n",
      "Epoch 62/100\n",
      "1104/1104 [==============================] - 1s 459us/step - loss: 0.5052 - binary_accuracy: 0.7572 - val_loss: 0.8810 - val_binary_accuracy: 0.5145\n",
      "Epoch 63/100\n",
      "1104/1104 [==============================] - 1s 536us/step - loss: 0.5126 - binary_accuracy: 0.7382 - val_loss: 0.8672 - val_binary_accuracy: 0.5072\n",
      "Epoch 64/100\n",
      "1104/1104 [==============================] - 1s 518us/step - loss: 0.5078 - binary_accuracy: 0.7455 - val_loss: 0.8714 - val_binary_accuracy: 0.5290\n",
      "Epoch 65/100\n",
      "1104/1104 [==============================] - 1s 495us/step - loss: 0.4958 - binary_accuracy: 0.7582 - val_loss: 0.8874 - val_binary_accuracy: 0.5254\n",
      "Epoch 66/100\n",
      "1104/1104 [==============================] - ETA: 0s - loss: 0.5063 - binary_accuracy: 0.743 - 1s 486us/step - loss: 0.5086 - binary_accuracy: 0.7418 - val_loss: 0.8714 - val_binary_accuracy: 0.5145\n",
      "Epoch 67/100\n",
      "1104/1104 [==============================] - 1s 485us/step - loss: 0.5096 - binary_accuracy: 0.7627 - val_loss: 0.9044 - val_binary_accuracy: 0.5036\n",
      "Epoch 68/100\n",
      "1104/1104 [==============================] - 1s 471us/step - loss: 0.5110 - binary_accuracy: 0.7545 - val_loss: 0.8967 - val_binary_accuracy: 0.5181\n",
      "Epoch 69/100\n",
      "1104/1104 [==============================] - 1s 481us/step - loss: 0.4980 - binary_accuracy: 0.7382 - val_loss: 0.8967 - val_binary_accuracy: 0.5000\n",
      "Epoch 70/100\n",
      "1104/1104 [==============================] - 1s 478us/step - loss: 0.5125 - binary_accuracy: 0.7554 - val_loss: 0.8689 - val_binary_accuracy: 0.5072\n",
      "Epoch 71/100\n",
      "1104/1104 [==============================] - 1s 471us/step - loss: 0.5017 - binary_accuracy: 0.7627 - val_loss: 0.9251 - val_binary_accuracy: 0.4928\n",
      "Epoch 72/100\n",
      "1104/1104 [==============================] - 1s 476us/step - loss: 0.5016 - binary_accuracy: 0.7582 - val_loss: 0.8720 - val_binary_accuracy: 0.5217\n",
      "Epoch 73/100\n",
      "1104/1104 [==============================] - 1s 476us/step - loss: 0.5097 - binary_accuracy: 0.7600 - val_loss: 0.8913 - val_binary_accuracy: 0.5109\n",
      "Epoch 74/100\n",
      "1104/1104 [==============================] - 1s 494us/step - loss: 0.4940 - binary_accuracy: 0.7627 - val_loss: 0.9204 - val_binary_accuracy: 0.5181\n",
      "Epoch 75/100\n",
      "1104/1104 [==============================] - 1s 554us/step - loss: 0.5025 - binary_accuracy: 0.7591 - val_loss: 0.9348 - val_binary_accuracy: 0.5145\n",
      "Epoch 76/100\n",
      "1104/1104 [==============================] - 1s 524us/step - loss: 0.5007 - binary_accuracy: 0.7473 - val_loss: 0.8790 - val_binary_accuracy: 0.5181\n",
      "Epoch 77/100\n",
      "1104/1104 [==============================] - 1s 528us/step - loss: 0.4941 - binary_accuracy: 0.7509 - val_loss: 0.8798 - val_binary_accuracy: 0.5254\n",
      "Epoch 78/100\n",
      "1104/1104 [==============================] - 1s 547us/step - loss: 0.5026 - binary_accuracy: 0.7618 - val_loss: 0.9152 - val_binary_accuracy: 0.5036\n",
      "Epoch 79/100\n",
      "1104/1104 [==============================] - 1s 500us/step - loss: 0.4852 - binary_accuracy: 0.7708 - val_loss: 0.9119 - val_binary_accuracy: 0.5217\n",
      "Epoch 80/100\n",
      "1104/1104 [==============================] - 1s 490us/step - loss: 0.4938 - binary_accuracy: 0.7736 - val_loss: 0.9633 - val_binary_accuracy: 0.5145\n",
      "Epoch 81/100\n",
      "1104/1104 [==============================] - 1s 486us/step - loss: 0.4939 - binary_accuracy: 0.7572 - val_loss: 0.8946 - val_binary_accuracy: 0.5217\n",
      "Epoch 82/100\n",
      "1104/1104 [==============================] - 1s 481us/step - loss: 0.4877 - binary_accuracy: 0.7563 - val_loss: 0.9432 - val_binary_accuracy: 0.5145\n",
      "Epoch 83/100\n",
      "1104/1104 [==============================] - 1s 476us/step - loss: 0.4913 - binary_accuracy: 0.7446 - val_loss: 0.9677 - val_binary_accuracy: 0.5399\n",
      "Epoch 84/100\n",
      "1104/1104 [==============================] - 1s 458us/step - loss: 0.4821 - binary_accuracy: 0.7654 - val_loss: 0.9260 - val_binary_accuracy: 0.5326\n",
      "Epoch 85/100\n",
      "1104/1104 [==============================] - 1s 474us/step - loss: 0.4876 - binary_accuracy: 0.7627 - val_loss: 0.9585 - val_binary_accuracy: 0.5362\n",
      "Epoch 86/100\n",
      "1104/1104 [==============================] - 1s 500us/step - loss: 0.4742 - binary_accuracy: 0.7708 - val_loss: 0.9904 - val_binary_accuracy: 0.5290\n",
      "Epoch 87/100\n",
      "1104/1104 [==============================] - 1s 503us/step - loss: 0.4819 - binary_accuracy: 0.7627 - val_loss: 0.9140 - val_binary_accuracy: 0.5507\n",
      "Epoch 88/100\n",
      "1104/1104 [==============================] - 1s 500us/step - loss: 0.4847 - binary_accuracy: 0.7636 - val_loss: 0.9418 - val_binary_accuracy: 0.5181\n",
      "Epoch 89/100\n",
      "1104/1104 [==============================] - 1s 466us/step - loss: 0.4807 - binary_accuracy: 0.7600 - val_loss: 0.9270 - val_binary_accuracy: 0.5181\n",
      "Epoch 90/100\n",
      "1104/1104 [==============================] - 1s 500us/step - loss: 0.4882 - binary_accuracy: 0.7672 - val_loss: 0.9294 - val_binary_accuracy: 0.5145\n",
      "Epoch 91/100\n",
      "1104/1104 [==============================] - 1s 478us/step - loss: 0.4779 - binary_accuracy: 0.7717 - val_loss: 0.9415 - val_binary_accuracy: 0.5217\n",
      "Epoch 92/100\n",
      "1104/1104 [==============================] - 1s 463us/step - loss: 0.4918 - binary_accuracy: 0.7627 - val_loss: 0.9317 - val_binary_accuracy: 0.5290\n",
      "Epoch 93/100\n",
      "1104/1104 [==============================] - 1s 467us/step - loss: 0.4830 - binary_accuracy: 0.7708 - val_loss: 0.9221 - val_binary_accuracy: 0.5290\n",
      "Epoch 94/100\n",
      "1104/1104 [==============================] - 1s 470us/step - loss: 0.4835 - binary_accuracy: 0.7591 - val_loss: 0.9631 - val_binary_accuracy: 0.5326\n",
      "Epoch 95/100\n",
      "1104/1104 [==============================] - 1s 490us/step - loss: 0.4938 - binary_accuracy: 0.7563 - val_loss: 0.9655 - val_binary_accuracy: 0.5109\n",
      "Epoch 96/100\n",
      "1104/1104 [==============================] - 1s 496us/step - loss: 0.4879 - binary_accuracy: 0.7663 - val_loss: 0.9580 - val_binary_accuracy: 0.5109\n",
      "Epoch 97/100\n",
      "1104/1104 [==============================] - 1s 506us/step - loss: 0.4779 - binary_accuracy: 0.7591 - val_loss: 0.9257 - val_binary_accuracy: 0.5254\n",
      "Epoch 98/100\n",
      "1104/1104 [==============================] - 1s 553us/step - loss: 0.4767 - binary_accuracy: 0.7672 - val_loss: 0.9570 - val_binary_accuracy: 0.5290\n",
      "Epoch 99/100\n",
      "1104/1104 [==============================] - 1s 541us/step - loss: 0.4661 - binary_accuracy: 0.7699 - val_loss: 0.9544 - val_binary_accuracy: 0.5290\n",
      "Epoch 100/100\n",
      "1104/1104 [==============================] - 1s 512us/step - loss: 0.4815 - binary_accuracy: 0.7618 - val_loss: 0.9865 - val_binary_accuracy: 0.5254\n"
     ]
    }
   ],
   "source": [
    "batch_size = 8\n",
    "\n",
    "history = model1.fit(x_train, \n",
    "               y_train,\n",
    "               batch_size=batch_size,\n",
    "               epochs=100,\n",
    "               verbose=1,\n",
    "               validation_data=[x_val, y_val])"
   ]
  },
  {
   "cell_type": "code",
   "execution_count": 23,
   "metadata": {},
   "outputs": [
    {
     "name": "stdout",
     "output_type": "stream",
     "text": [
      "dict_keys(['val_loss', 'val_binary_accuracy', 'loss', 'binary_accuracy'])\n"
     ]
    },
    {
     "data": {
      "image/png": "[encoded data removed]",
      "text/plain": [
       "<Figure size 432x288 with 1 Axes>"
      ]
     },
     "metadata": {
      "needs_background": "light"
     },
     "output_type": "display_data"
    },
    {
     "data": {
      "image/png": "[encoded data removed]",
      "text/plain": [
       "<Figure size 432x288 with 1 Axes>"
      ]
     },
     "metadata": {
      "needs_background": "light"
     },
     "output_type": "display_data"
    }
   ],
   "source": [
    "import matplotlib.pyplot as plt\n",
    "print(history.history.keys())\n",
    "# summarize history for accuracy\n",
    "plt.plot(history.history['binary_accuracy'])\n",
    "plt.plot(history.history['val_binary_accuracy'])\n",
    "plt.title('model accuracy')\n",
    "plt.ylabel('val_binary_accuracy')\n",
    "plt.xlabel('epoch')\n",
    "plt.legend(['train', 'test'], loc='upper left')\n",
    "plt.show()\n",
    "# summarize history for loss\n",
    "plt.plot(history.history['loss'])\n",
    "plt.plot(history.history['val_loss'])\n",
    "plt.title('model loss')\n",
    "plt.ylabel('loss')\n",
    "plt.xlabel('epoch')\n",
    "plt.legend(['train', 'test'], loc='upper left')\n",
    "plt.show()"
   ]
  },
  {
   "cell_type": "code",
   "execution_count": null,
   "metadata": {},
   "outputs": [],
   "source": []
  }
 ],
 "metadata": {
  "kernelspec": {
   "display_name": "Python 3",
   "language": "python",
   "name": "python3"
  },
  "language_info": {
   "codemirror_mode": {
    "name": "ipython",
    "version": 3
   },
   "file_extension": ".py",
   "mimetype": "text/x-python",
   "name": "python",
   "nbconvert_exporter": "python",
   "pygments_lexer": "ipython3",
   "version": "3.7.6"
  }
 },
 "nbformat": 4,
 "nbformat_minor": 2
}
